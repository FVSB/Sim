{
 "cells": [
  {
   "cell_type": "markdown",
   "id": "7cc98b4c",
   "metadata": {},
   "source": [
    "# Proyecto de Simulación de Eventos Discretos\n",
    "## Tema: Inventario"
   ]
  },
  {
   "cell_type": "markdown",
   "id": "cb067044",
   "metadata": {},
   "source": [
    "### Integrantes:\n",
    "- Carla S Perez Varela C-412\n",
    "- Francisco V Suárez Bellón C-412"
   ]
  },
  {
   "cell_type": "markdown",
   "id": "497b48bd",
   "metadata": {},
   "source": [
    "Para poder llevar a cabo esta simulación se ha hecho un estudio del problema a tratar y se ha llegado a la conclusión de que el modelo de inventario es el más adecuado para llevar a cabo la simulación. Donde para el correcto funcionamiento del modelo se ha dividido en una serie de eventos:\n",
    "- Llegada de un cliente al sistema, el cual distribuye exponencialmente.\n",
    "- Atención de un cliente, el cual es el tiempo de demora entre que al cliente le ha llegado su turno y el tiempo que tarda en comprar o no el producto. El cual tiene una distribución uniforme entre dos parámetros de tiempo. \n",
    "- Secuencial y dependiente del evento anterior está el de reponer la mercancía dado que mientras una persona es atendida no debe hacerse ninguna comprobación de la mercancía para esta labor.\n"
   ]
  },
  {
   "cell_type": "markdown",
   "id": "b0f19a8b168414ca",
   "metadata": {
    "collapsed": false
   },
   "source": [
    "## Dado la forma en la que esta planteada el problema existen dos maneras de modelarlas:\n",
    "- Simular una linea de tiempo continua donde se puede ver la cantidad de personas que han podido comprar en que momento ha habido perdidas para la empresa asi como posibles cuellos de botella.\n",
    "- Simular por un determinado grupo de personas dado que en eventos u otros determinados momentos se espera una cantidad de personas u otra obstracción que sea algo fijo y su distribución temporal conocida y se quiere conocer el comportamiento de la empresa en ese momento y ambiente "
   ]
  },
  {
   "cell_type": "markdown",
   "source": [
    "**Para poder hacer más sencilla la explicación crearemos una simulación con unos parámetros predefinidos, donde se harán 60 estudios de Bernoulli independientes con diferentes semillas en las dos modalidades planteadas anteriormente**"
   ],
   "metadata": {
    "collapsed": false
   },
   "id": "2438ffb55adbd6d5"
  },
  {
   "cell_type": "markdown",
   "source": [
    "#### Caso ejemplo:\n",
    "- Tiempo máximo de simulación : 10080 Una semana (Este límite es solo para el caso de la línea temporal)\n",
    "- tiempo promedio de entrada de un cliente 0.\n",
    "- precio de compra del producto al proveedor = 200.\n",
    "- precio de venta del producto = 300. \n",
    "- stock máximo en la tienda = 15.\n",
    "- stock mínimo en la tienda = 4.\n",
    "- stock inicial en la tienda = 4.\n",
    "- Tiempo mínimo de reposición = 65 minutos\n",
    "- tiempo máximo de reposición = 180 minutos\n",
    "- cantidad de personal a atender simultaneamente a clientes = 1.\n",
    "- cantidad de clientes máximo = 12 ( En el caso que se genere por cantidad de clientes)\n",
    "- precio de mantener producto por minuto = 0.05\n"
   ],
   "metadata": {
    "collapsed": false
   },
   "id": "74576d849e477544"
  },
  {
   "cell_type": "code",
   "execution_count": 10,
   "id": "1194465379031390",
   "metadata": {
    "collapsed": false,
    "ExecuteTime": {
     "end_time": "2024-03-02T17:42:08.088451Z",
     "start_time": "2024-03-02T17:42:08.079648Z"
    }
   },
   "outputs": [],
   "source": [
    "from sim import *\n",
    "\n",
    "import numpy as np"
   ]
  },
  {
   "cell_type": "markdown",
   "source": [
    "Generar las semillas para los diferentes experimentos de bernoulli independientes"
   ],
   "metadata": {
    "collapsed": false
   },
   "id": "ec614449fba0515"
  },
  {
   "cell_type": "code",
   "outputs": [
    {
     "name": "stdout",
     "output_type": "stream",
     "text": [
      "59 59\n"
     ]
    }
   ],
   "source": [
    "lis_by_time=[]\n",
    "lis_by_person=[]\n",
    "for seed in range (1,60,1):\n",
    "    sim = Simulation(seed=seed, sim_time=720, arrival_times=0.2, buy_price=200, sale_price=300, STOCK_MAX=15, STOCK_MIN=4,\n",
    "                 initial_stock=4, Repo_Min_T=65, Repo_Max_T=180, storekeeper=1, clients_count=1500,\n",
    "                 maintenance_cost=0.05)\n",
    "    s_t=sim.start(True)\n",
    "    lis_by_time.append(s_t) \n",
    "    s_p=sim.start(False)\n",
    "    lis_by_person.append(s_p)\n",
    "    \n",
    "print(len(lis_by_person),len(lis_by_time))"
   ],
   "metadata": {
    "collapsed": false,
    "ExecuteTime": {
     "end_time": "2024-03-02T17:46:31.283131Z",
     "start_time": "2024-03-02T17:46:16.214983Z"
    }
   },
   "id": "9027e1ef0a53618a",
   "execution_count": 13
  },
  {
   "cell_type": "code",
   "outputs": [],
   "source": [
    "import itertools\n",
    "\n",
    "# Listas de valores\n",
    "valores1 = ['a', 'b', 'c']\n",
    "valores2 = [1, 2, 3]\n",
    "valores3 = ['x', 'y', 'z']\n",
    "\n",
    "# Generar todas las combinaciones posibles\n",
    "for x,y,z in itertools.product(valores1, valores2, valores3):\n",
    "    print(x,y,z)"
   ],
   "metadata": {
    "collapsed": false
   },
   "id": "b9d6c5c496deba41",
   "execution_count": null
  },
  {
   "cell_type": "code",
   "outputs": [],
   "source": [
    "import itertools as it"
   ],
   "metadata": {
    "collapsed": false
   },
   "id": "50b0953f85d68bd8",
   "execution_count": null
  },
  {
   "cell_type": "code",
   "outputs": [],
   "source": [
    "#lista de posibles valores\n",
    "arrival_times = [0.2, 0.3, 0.4]\n",
    "buy_prices = [200, 250, 290]\n",
    "sale_prices = [300, 350, 400]\n",
    "STOCK_MAXS = [15, 20, 25]\n",
    "STOCK_MINS = [4, 6, 8]\n",
    "initial_stocks = [4, 6, 8]\n",
    "Repo_Min_TS = [65, 70, 75]\n",
    "Repo_Max_TS = [180, 190, 200]\n",
    "clients_counts = [1500, 2000, 2500]\n",
    "maintenance_costs = [0.05, 0.06, 0.07]\n",
    "\n",
    "lis=[]\n",
    "for arrival_time,buy_price,sale_price,stock_max,stock_min,repo_max_t,repo_min_t,client_count,maintenance_cost,initial_stock in it.product(arrival_times,buy_prices,sale_prices,STOCK_MAXS,STOCK_MINS,Repo_Max_TS,Repo_Min_TS,clients_counts,maintenance_costs,initial_stocks):\n",
    "    \n",
    "    for seed in range (1,2,1):\n",
    "        sim = Simulation(seed=seed, sim_time=720, arrival_times=arrival_time, buy_price=buy_price, sale_price=sale_price, STOCK_MAX=stock_max, STOCK_MIN=stock_min,\n",
    "                     initial_stock=initial_stock, Repo_Min_T=repo_min_t, Repo_Max_T=repo_max_t, storekeeper=1, clients_count=client_count,\n",
    "                     maintenance_cost=maintenance_cost)\n",
    "        s=sim.start()\n",
    "        #print(f\"En la semilla {seed} el balance es de {s.money_balance}\")\n",
    "        lis.append(s) \n"
   ],
   "metadata": {
    "collapsed": false
   },
   "id": "f0de621670cd6936",
   "execution_count": null
  },
  {
   "cell_type": "code",
   "outputs": [],
   "source": [
    "print(3**10)"
   ],
   "metadata": {
    "collapsed": false
   },
   "id": "44a3526ab5420c64"
  },
  {
   "cell_type": "code",
   "outputs": [],
   "source": [
    "for i in lis:\n",
    "    print(i.money_balance)"
   ],
   "metadata": {
    "collapsed": false
   },
   "id": "ab2b0089ed5442c9",
   "execution_count": null
  },
  {
   "cell_type": "code",
   "execution_count": null,
   "id": "56826a17c9569212",
   "metadata": {
    "collapsed": false
   },
   "outputs": [],
   "source": [
    "\n",
    "\n",
    "sim = Simulation(seed=30, sim_time=720, arrival_times=0.2, buy_price=200, sale_price=300, STOCK_MAX=15, STOCK_MIN=4,\n",
    "                 initial_stock=4, Repo_Min_T=65, Repo_Max_T=180, storekeeper=1, clients_count=1500,\n",
    "                 maintenance_cost=0.05)\n",
    "\n",
    "sim.start(True)\n",
    "print(len(sim.people))\n",
    "print(len(sim.orders))\n",
    "\n",
    "print(sim.orders_count)\n",
    "c=0\n",
    "for i in sim.people:\n",
    "    c+=i.count_can_buy*300\n",
    "\n",
    "print(c)\n",
    "e=0\n",
    "for i in sim.orders:\n",
    "    e+=i.count*200\n",
    "\n",
    "print(e)\n",
    "\n",
    "print(c-e)"
   ]
  },
  {
   "cell_type": "code",
   "execution_count": null,
   "id": "94fcc040a20dddd4",
   "metadata": {
    "collapsed": false
   },
   "outputs": [],
   "source": []
  },
  {
   "cell_type": "markdown",
   "id": "1002fcee6044d118",
   "metadata": {
    "collapsed": false
   },
   "source": []
  },
  {
   "cell_type": "code",
   "execution_count": null,
   "id": "80d075f0",
   "metadata": {},
   "outputs": [],
   "source": [
    "\n",
    "\n",
    "# Conjunto de datos\n",
    "datos = [1, 2, 3, 4, 5, 6, 7, 8, 9, 10]\n",
    "\n",
    "# Calcula la esperanza (media)\n",
    "esperanza = np.mean(datos)\n",
    "\n",
    "# Calcula la varianza\n",
    "varianza = np.var(datos)\n",
    "\n",
    "print(f'Esperanza: {esperanza}')\n",
    "print(f'Varianza: {varianza}')"
   ]
  },
  {
   "cell_type": "code",
   "execution_count": null,
   "id": "initial_id",
   "metadata": {
    "collapsed": true
   },
   "outputs": [],
   "source": []
  }
 ],
 "metadata": {
  "kernelspec": {
   "display_name": "Python 3",
   "language": "python",
   "name": "python3"
  },
  "language_info": {
   "codemirror_mode": {
    "name": "ipython",
    "version": 3
   },
   "file_extension": ".py",
   "mimetype": "text/x-python",
   "name": "python",
   "nbconvert_exporter": "python",
   "pygments_lexer": "ipython3",
   "version": "3.12.0"
  }
 },
 "nbformat": 4,
 "nbformat_minor": 5
}
