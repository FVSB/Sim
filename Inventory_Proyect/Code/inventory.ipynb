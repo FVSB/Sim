{
 "cells": [
  {
   "cell_type": "markdown",
   "id": "7cc98b4c",
   "metadata": {},
   "source": [
    "# Proyecto de Simulación de Eventos Discretos\n",
    "## Tema: Inventario"
   ]
  },
  {
   "cell_type": "markdown",
   "id": "cb067044",
   "metadata": {},
   "source": [
    "### Integrantes:\n",
    "- Carla S Perez Varela C-412\n",
    "- Francisco V Suárez Bellón C-412"
   ]
  },
  {
   "cell_type": "markdown",
   "id": "497b48bd",
   "metadata": {},
   "source": [
    "Para poder llevar a cabo esta simulación se ha hecho un estudio del problema a tratar y se ha llegado a la conclusión de que el modelo de inventario es el más adecuado para llevar a cabo la simulación. Donde para el correcto funcionamiento del modelo se ha dividido en una serie de eventos:\n",
    "- Llegada de un cliente al sistema, el cual distribuye exponencialmente.\n",
    "- Atención de un cliente, el cual es el tiempo de demora entre que al cliente le ha llegado su turno y el tiempo que tarda en comprar o no el producto. El cual tiene una distribución uniforme entre dos parámetros de tiempo. \n",
    "- Secuencial y dependiente del evento anterior está el de reponer la mercancía dado que mientras una persona es atendida no debe hacerse ninguna comprobación de la mercancía para esta labor.\n"
   ]
  },
  {
   "cell_type": "markdown",
   "id": "b0f19a8b168414ca",
   "metadata": {
    "collapsed": false
   },
   "source": [
    "## Dado la forma en la que esta planteada el problema existen dos maneras de modelarlas:\n",
    "- Simular una linea de tiempo continua donde se puede ver la cantidad de personas que han podido comprar en que momento ha habido perdidas para la empresa asi como posibles cuellos de botella.\n",
    "- Simular por un determinado grupo de personas dado que en eventos u otros determinados momentos se espera una cantidad de personas u otra obstracción que sea algo fijo y su distribución temporal conocida y se quiere conocer el comportamiento de la empresa en ese momento y ambiente "
   ]
  },
  {
   "cell_type": "markdown",
   "source": [
    "**Para poder hacer más sencilla la explicación crearemos una simulación con unos parámetros predefinidos, donde se harán 60 estudios de Bernoulli independientes con diferentes semillas en las dos modalidades planteadas anteriormente**"
   ],
   "metadata": {
    "collapsed": false
   },
   "id": "2438ffb55adbd6d5"
  },
  {
   "cell_type": "markdown",
   "source": [
    "#### Caso ejemplo:\n",
    "- Tiempo máximo de simulación : 10080 Una semana (Este límite es solo para el caso de la línea temporal)\n",
    "- tiempo promedio de entrada de un cliente en minutos = 20.\n",
    "- precio de compra del producto al proveedor = 200.\n",
    "- precio de venta del producto = 300. \n",
    "- stock máximo en la tienda = 150.\n",
    "- stock mínimo en la tienda = 40.\n",
    "- stock inicial en la tienda = 21.\n",
    "- Tiempo mínimo de reposición = 65 minutos\n",
    "- tiempo máximo de reposición = 180 minutos\n",
    "- cantidad de personal a atender simultaneamente a clientes = 1.\n",
    "- cantidad de clientes máximo = 12 ( En el caso que se genere por cantidad de clientes)\n",
    "- precio de mantener producto por minuto = 0.05\n"
   ],
   "metadata": {
    "collapsed": false
   },
   "id": "74576d849e477544"
  },
  {
   "cell_type": "code",
   "execution_count": 1,
   "id": "1194465379031390",
   "metadata": {
    "collapsed": false,
    "ExecuteTime": {
     "end_time": "2024-03-02T21:58:37.954749Z",
     "start_time": "2024-03-02T21:58:37.632511Z"
    }
   },
   "outputs": [],
   "source": [
    "from sim import *\n",
    "\n",
    "import numpy as np"
   ]
  },
  {
   "cell_type": "markdown",
   "source": [
    "Generar las simulaciones con iguales parámetros excepto las semillas"
   ],
   "metadata": {
    "collapsed": false
   },
   "id": "ec614449fba0515"
  },
  {
   "cell_type": "code",
   "outputs": [],
   "source": [
    "def get_simulation(seed):\n",
    "   return Simulation(seed=seed, sim_time=720, arrival_times=20, buy_price=200, sale_price=300, STOCK_MAX=150,\n",
    "                             STOCK_MIN=40, initial_stock=21, Repo_Min_T=65, Repo_Max_T=180, storekeeper=1, clients_count=1500,\n",
    "                             maintenance_cost=0.05)"
   ],
   "metadata": {
    "collapsed": false,
    "ExecuteTime": {
     "end_time": "2024-03-02T21:58:37.967330Z",
     "start_time": "2024-03-02T21:58:37.958764Z"
    }
   },
   "id": "df541cfd629e3d15",
   "execution_count": 2
  },
  {
   "cell_type": "markdown",
   "source": [],
   "metadata": {
    "collapsed": false
   },
   "id": "e8d3621cd3a14b26"
  },
  {
   "cell_type": "code",
   "outputs": [],
   "source": [
    "def experiment_results(count=60):\n",
    "    \"\"\"\n",
    "    This function runs a simulation experiment multiple times and collects the results.\n",
    "\n",
    "    Parameters:\n",
    "    count (int): The number of times to run the simulation. Default is 60.\n",
    "\n",
    "    Returns:\n",
    "    tuple: A tuple containing two lists:\n",
    "           - lis_by_time (list): This list contains the results of the simulations when the 'by_time' parameter is set to True.\n",
    "           - lis_by_person (list): This list contains the results of the simulations when the 'by_time' parameter is set to False.\n",
    "    \"\"\"\n",
    "\n",
    "    # Initialize lists to store the results of the simulations\n",
    "    lis_by_time = []\n",
    "    lis_by_person = []\n",
    "\n",
    "    # Run the simulation 'count' times\n",
    "    for seed in range(1, count + 1, 1):\n",
    "        # Initialize a Simulation object with the given parameters\n",
    "        sim = get_simulation(seed)\n",
    "\n",
    "        # Run the simulation with 'by_time' set to True and store the result\n",
    "        s_t = sim.start(True)\n",
    "        lis_by_time.append(s_t)\n",
    "        sim = get_simulation(seed)\n",
    "        # Run the simulation with 'by_time' set to False and store the result\n",
    "        s_p = sim.start(False)\n",
    "        lis_by_person.append(s_p)\n",
    "\n",
    "    # Return the results of the simulations\n",
    "    return lis_by_time, lis_by_person"
   ],
   "metadata": {
    "collapsed": false,
    "ExecuteTime": {
     "end_time": "2024-03-02T21:58:37.978691Z",
     "start_time": "2024-03-02T21:58:37.970348Z"
    }
   },
   "id": "9027e1ef0a53618a",
   "execution_count": 3
  },
  {
   "cell_type": "code",
   "outputs": [],
   "source": [
    "lis_by_time, lis_by_person=experiment_results(60)"
   ],
   "metadata": {
    "collapsed": false,
    "ExecuteTime": {
     "end_time": "2024-03-02T21:58:42.962463Z",
     "start_time": "2024-03-02T21:58:37.980706Z"
    }
   },
   "id": "49ae3050094f8d78",
   "execution_count": 4
  },
  {
   "cell_type": "markdown",
   "source": [
    "## Analisis estadistico"
   ],
   "metadata": {
    "collapsed": false
   },
   "id": "4034b663dc9cf93c"
  },
  {
   "cell_type": "markdown",
   "source": [
    "Utilizar la biblioteca numpy para hacer el análisis de los datos \n"
   ],
   "metadata": {
    "collapsed": false
   },
   "id": "2bd72a537ae3de37"
  },
  {
   "cell_type": "code",
   "outputs": [],
   "source": [
    "def analysis(data,info:str):\n",
    "    # Calcula la media\n",
    "    media = np.mean(data)\n",
    "    \n",
    "    # Calcula la mediana\n",
    "    mediana = np.median(data)\n",
    "    \n",
    "    # Calcula la varianza\n",
    "    varianza = np.var(data)\n",
    "    \n",
    "    # Calcula la desviación estándar\n",
    "    desviacion_estandar = np.std(data)\n",
    "    \n",
    "    # Calcula el valor mínimo\n",
    "    minimo = np.min(data)\n",
    "    \n",
    "    # Calcula el valor máximo\n",
    "    maximo = np.max(data)\n",
    "    print(info)\n",
    "    print(f' Media: {media}')\n",
    "    print(f'Mediana: {mediana}')\n",
    "    print(f'Varianza: {varianza}')\n",
    "    print(f'Desviación estándar: {desviacion_estandar}')\n",
    "    print(f'Mínimo: {minimo}')\n",
    "    print(f'Máximo: {maximo}')"
   ],
   "metadata": {
    "collapsed": false,
    "ExecuteTime": {
     "end_time": "2024-03-02T21:58:42.973137Z",
     "start_time": "2024-03-02T21:58:42.965477Z"
    }
   },
   "id": "7a0f417bf54772e7",
   "execution_count": 5
  },
  {
   "cell_type": "markdown",
   "source": [
    "#### Analisis estadistico sobre los clientes"
   ],
   "metadata": {
    "collapsed": false
   },
   "id": "564edbdc0364ca64"
  },
  {
   "cell_type": "markdown",
   "source": [
    "Con respecto a la simulación por cantidad máxima de personas:"
   ],
   "metadata": {
    "collapsed": false
   },
   "id": "8445eba853845b32"
  },
  {
   "cell_type": "markdown",
   "source": [
    "Hubo un total de 1500 clientes"
   ],
   "metadata": {
    "collapsed": false
   },
   "id": "4093d3afca63324e"
  },
  {
   "cell_type": "markdown",
   "source": [
    "De las cuales no pudieron comprar:"
   ],
   "metadata": {
    "collapsed": false
   },
   "id": "a92cca0bfc020b4"
  },
  {
   "cell_type": "code",
   "outputs": [
    {
     "name": "stdout",
     "output_type": "stream",
     "text": [
      "No pudieron comprar nada:\n",
      " Media: 63.68333333333333\n",
      "Mediana: 61.0\n",
      "Varianza: 192.24972222222223\n",
      "Desviación estándar: 13.865414606935568\n",
      "Mínimo: 34\n",
      "Máximo: 101\n"
     ]
    }
   ],
   "source": [
    "data = np.array([ a.count_persons_cannot_buy() for a in lis_by_person])\n",
    "analysis(data,\"No pudieron comprar nada:\")\n",
    "\n"
   ],
   "metadata": {
    "collapsed": false,
    "ExecuteTime": {
     "end_time": "2024-03-02T21:58:42.993754Z",
     "start_time": "2024-03-02T21:58:42.976155Z"
    }
   },
   "id": "1d81b3053096297c",
   "execution_count": 6
  },
  {
   "cell_type": "markdown",
   "source": [
    "Esto significa que como intencionalmente el primer cliente no podrá comprar dado que el stock "
   ],
   "metadata": {
    "collapsed": false
   },
   "id": "b433dcb6679911ce"
  },
  {
   "cell_type": "markdown",
   "source": [
    "Y compraron todo lo que necesitaron:\n"
   ],
   "metadata": {
    "collapsed": false
   },
   "id": "c89ca12626a787b8"
  },
  {
   "cell_type": "code",
   "outputs": [
    {
     "name": "stdout",
     "output_type": "stream",
     "text": [
      "Se suplió la demanda a:\n",
      " Media: 1413.5166666666667\n",
      "Mediana: 1416.0\n",
      "Varianza: 228.74972222222223\n",
      "Desviación estándar: 15.124474279201317\n",
      "Mínimo: 1374\n",
      "Máximo: 1444\n"
     ]
    }
   ],
   "source": [
    "data = np.array([a.count_persons_can_buy_all() for a in lis_by_person])\n",
    "analysis(data,\"Se suplió la demanda a:\")"
   ],
   "metadata": {
    "collapsed": false,
    "ExecuteTime": {
     "end_time": "2024-03-02T21:58:43.014125Z",
     "start_time": "2024-03-02T21:58:42.996764Z"
    }
   },
   "id": "c165f4fd41749780",
   "execution_count": 7
  },
  {
   "cell_type": "code",
   "outputs": [],
   "source": [
    "data = np.array([ a.count_persons_cannot_buy_all() for a in lis_by_person])\n",
    "analysis(data,\"Fueron suplidos con menos oferta que su demanda\")"
   ],
   "metadata": {
    "collapsed": false,
    "is_executing": true
   },
   "id": "e85d88ffe69c6e92",
   "execution_count": null
  },
  {
   "cell_type": "markdown",
   "source": [],
   "metadata": {
    "collapsed": false
   },
   "id": "83fb1f9c49af7b40"
  },
  {
   "cell_type": "markdown",
   "source": [
    "Con repecto a la simulación respecto al tiempo"
   ],
   "metadata": {
    "collapsed": false
   },
   "id": "8651a2cb9a407488"
  },
  {
   "cell_type": "code",
   "outputs": [
    {
     "name": "stdout",
     "output_type": "stream",
     "text": [
      "By time\n",
      " Media: 4.2\n",
      "Mediana: 4.0\n",
      "Varianza: 9.493333333333334\n",
      "Desviación estándar: 3.081125335544358\n",
      "Mínimo: 0\n",
      "Máximo: 12\n"
     ]
    }
   ],
   "source": [
    "data = np.array([sum(p.count_can_buy != p.count_to_buy for p in a.people) for a in lis_by_time])\n",
    "analysis(data,\"By time\")"
   ],
   "metadata": {
    "collapsed": false,
    "ExecuteTime": {
     "end_time": "2024-03-02T21:58:43.049453Z",
     "start_time": "2024-03-02T21:58:43.042062Z"
    }
   },
   "id": "af078fa4ef7b4266",
   "execution_count": 9
  },
  {
   "cell_type": "code",
   "outputs": [],
   "source": [
    "import itertools as it"
   ],
   "metadata": {
    "collapsed": false,
    "ExecuteTime": {
     "end_time": "2024-03-02T21:58:43.057245Z",
     "start_time": "2024-03-02T21:58:43.051464Z"
    }
   },
   "id": "50b0953f85d68bd8",
   "execution_count": 10
  },
  {
   "cell_type": "code",
   "outputs": [],
   "source": [
    "#lista de posibles valores\n",
    "arrival_times = [0.2, 0.3, 0.4]\n",
    "buy_prices = [200, 250, 290]\n",
    "sale_prices = [300, 350, 400]\n",
    "STOCK_MAXS = [15, 20, 25]\n",
    "STOCK_MINS = [4, 6, 8]\n",
    "initial_stocks = [4, 6, 8]\n",
    "Repo_Min_TS = [65, 70, 75]\n",
    "Repo_Max_TS = [180, 190, 200]\n",
    "clients_counts = [1500, 2000, 2500]\n",
    "maintenance_costs = [0.05, 0.06, 0.07]\n",
    "\n",
    "lis=[]\n",
    "for arrival_time,buy_price,sale_price,stock_max,stock_min,repo_max_t,repo_min_t,client_count,maintenance_cost,initial_stock in it.product(arrival_times,buy_prices,sale_prices,STOCK_MAXS,STOCK_MINS,Repo_Max_TS,Repo_Min_TS,clients_counts,maintenance_costs,initial_stocks):\n",
    "    \n",
    "    for seed in range (1,2,1):\n",
    "        sim = Simulation(seed=seed, sim_time=720, arrival_times=arrival_time, buy_price=buy_price, sale_price=sale_price, STOCK_MAX=stock_max, STOCK_MIN=stock_min,\n",
    "                     initial_stock=initial_stock, Repo_Min_T=repo_min_t, Repo_Max_T=repo_max_t, storekeeper=1, clients_count=client_count,\n",
    "                     maintenance_cost=maintenance_cost)\n",
    "        s=sim.start()\n",
    "        #print(f\"En la semilla {seed} el balance es de {s.money_balance}\")\n",
    "        lis.append(s) \n"
   ],
   "metadata": {
    "collapsed": false,
    "is_executing": true,
    "ExecuteTime": {
     "start_time": "2024-03-02T21:58:43.059255Z"
    }
   },
   "id": "f0de621670cd6936",
   "execution_count": null
  },
  {
   "cell_type": "code",
   "outputs": [],
   "source": [
    "print(3**10)"
   ],
   "metadata": {
    "collapsed": false,
    "is_executing": true
   },
   "id": "44a3526ab5420c64"
  },
  {
   "cell_type": "code",
   "outputs": [],
   "source": [
    "for i in lis:\n",
    "    print(i.money_balance)"
   ],
   "metadata": {
    "collapsed": false,
    "is_executing": true
   },
   "id": "ab2b0089ed5442c9",
   "execution_count": null
  },
  {
   "cell_type": "code",
   "execution_count": null,
   "id": "56826a17c9569212",
   "metadata": {
    "collapsed": false,
    "is_executing": true
   },
   "outputs": [],
   "source": [
    "\n",
    "\n",
    "sim = Simulation(seed=30, sim_time=720, arrival_times=0.2, buy_price=200, sale_price=300, STOCK_MAX=15, STOCK_MIN=4,\n",
    "                 initial_stock=4, Repo_Min_T=65, Repo_Max_T=180, storekeeper=1, clients_count=1500,\n",
    "                 maintenance_cost=0.05)\n",
    "\n",
    "sim.start(True)\n",
    "print(len(sim.people))\n",
    "print(len(sim.orders))\n",
    "\n",
    "print(sim.orders_count)\n",
    "c=0\n",
    "for i in sim.people:\n",
    "    c+=i.count_can_buy*300\n",
    "\n",
    "print(c)\n",
    "e=0\n",
    "for i in sim.orders:\n",
    "    e+=i.count*200\n",
    "\n",
    "print(e)\n",
    "\n",
    "print(c-e)"
   ]
  },
  {
   "cell_type": "code",
   "execution_count": null,
   "id": "94fcc040a20dddd4",
   "metadata": {
    "collapsed": false,
    "is_executing": true
   },
   "outputs": [],
   "source": []
  },
  {
   "cell_type": "markdown",
   "id": "1002fcee6044d118",
   "metadata": {
    "collapsed": false
   },
   "source": []
  },
  {
   "cell_type": "code",
   "execution_count": null,
   "id": "80d075f0",
   "metadata": {
    "is_executing": true
   },
   "outputs": [],
   "source": [
    "\n",
    "\n",
    "# Conjunto de datos\n",
    "data = [1, 2, 3, 4, 5, 6, 7, 8, 9, 10]\n",
    "\n",
    "# Calcula la esperanza (media)\n",
    "esperanza = np.mean(data)\n",
    "\n",
    "# Calcula la varianza\n",
    "varianza = np.var(data)\n",
    "\n",
    "print(f'Esperanza: {esperanza}')\n",
    "print(f'Varianza: {varianza}')"
   ]
  },
  {
   "cell_type": "code",
   "execution_count": null,
   "id": "initial_id",
   "metadata": {
    "collapsed": true,
    "is_executing": true
   },
   "outputs": [],
   "source": []
  }
 ],
 "metadata": {
  "kernelspec": {
   "display_name": "Python 3",
   "language": "python",
   "name": "python3"
  },
  "language_info": {
   "codemirror_mode": {
    "name": "ipython",
    "version": 3
   },
   "file_extension": ".py",
   "mimetype": "text/x-python",
   "name": "python",
   "nbconvert_exporter": "python",
   "pygments_lexer": "ipython3",
   "version": "3.12.0"
  }
 },
 "nbformat": 4,
 "nbformat_minor": 5
}
