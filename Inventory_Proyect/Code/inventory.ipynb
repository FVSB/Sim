{
 "cells": [
  {
   "cell_type": "markdown",
   "id": "7cc98b4c",
   "metadata": {},
   "source": [
    "# Proyecto de Simulación de Eventos Discretos\n",
    "## Tema: Inventario"
   ]
  },
  {
   "cell_type": "markdown",
   "id": "cb067044",
   "metadata": {},
   "source": [
    "### Integrantes:\n",
    "- Carla S Perez Varela C-412\n",
    "- Francisco V Suárez Bellón C-412"
   ]
  },
  {
   "cell_type": "markdown",
   "source": [
    "## Instalar todas las dependencias necesarias"
   ],
   "metadata": {
    "collapsed": false
   },
   "id": "e67867532d007848"
  },
  {
   "cell_type": "markdown",
   "source": [
    "- numpy\n",
    "- simpy\n",
    "- matplotlib\n",
    "- pandas\n",
    "- random\n",
    "- math"
   ],
   "metadata": {
    "collapsed": false
   },
   "id": "6fa7492b773593f3"
  },
  {
   "cell_type": "code",
   "outputs": [],
   "source": [
    "import subprocess\n",
    "import sys\n",
    "\n",
    "def install(package):\n",
    "    subprocess.check_call([sys.executable, \"-m\", \"pip\", \"install\", package])"
   ],
   "metadata": {
    "collapsed": false,
    "ExecuteTime": {
     "end_time": "2024-03-03T22:26:57.269095Z",
     "start_time": "2024-03-03T22:26:57.259157Z"
    }
   },
   "id": "94683fa11dc5cb11",
   "execution_count": 1
  },
  {
   "cell_type": "code",
   "outputs": [],
   "source": [
    "packages = [\"random\", \"math\", \"simpy\",\"matplotlib\",\"numpy\",\"pandas\"]\n",
    "\n",
    "for package in packages:\n",
    "    try:\n",
    "        exec(f\"import {package}\")\n",
    "    except ImportError:\n",
    "        install(package)"
   ],
   "metadata": {
    "collapsed": false,
    "ExecuteTime": {
     "end_time": "2024-03-03T22:28:35.608475Z",
     "start_time": "2024-03-03T22:28:33.611156Z"
    }
   },
   "id": "5bd4b0956032da05",
   "execution_count": 2
  },
  {
   "cell_type": "markdown",
   "source": [],
   "metadata": {
    "collapsed": false
   },
   "id": "1886711843418c94"
  },
  {
   "cell_type": "markdown",
   "id": "497b48bd",
   "metadata": {},
   "source": [
    "Para poder llevar a cabo esta simulación se ha hecho un estudio del problema a tratar y se ha llegado a la conclusión de que el modelo de inventario es el más adecuado para llevar a cabo la simulación. Donde para el correcto funcionamiento del modelo se ha dividido en una serie de eventos:\n",
    "- Llegada de un cliente al sistema, el cual distribuye exponencialmente.\n",
    "- Atención de un cliente, el cual es el tiempo de demora entre que al cliente le ha llegado su turno y el tiempo que tarda en comprar o no el producto. El cual tiene una distribución uniforme entre dos parámetros de tiempo. \n",
    "- Secuencial y dependiente del evento anterior está el de reponer la mercancía dado que mientras una persona es atendida no debe hacerse ninguna comprobación de la mercancía para esta labor.\n"
   ]
  },
  {
   "cell_type": "markdown",
   "id": "b0f19a8b168414ca",
   "metadata": {
    "collapsed": false
   },
   "source": [
    "## Dado la forma en la que esta planteada el problema existen dos maneras de modelarlas:\n",
    "- Simular una linea de tiempo continua donde se puede ver la cantidad de personas que han podido comprar en que momento ha habido perdidas para la empresa asi como posibles cuellos de botella.\n",
    "- Simular por un determinado grupo de personas dado que en eventos u otros determinados momentos se espera una cantidad de personas u otra obstracción que sea algo fijo y su distribución temporal conocida y se quiere conocer el comportamiento de la empresa en ese momento y ambiente "
   ]
  },
  {
   "cell_type": "markdown",
   "id": "2438ffb55adbd6d5",
   "metadata": {
    "collapsed": false
   },
   "source": [
    "**Para poder hacer más sencilla la explicación crearemos una simulación con unos parámetros predefinidos, donde se harán 60 estudios de Bernoulli independientes con diferentes semillas en las dos modalidades planteadas anteriormente**"
   ]
  },
  {
   "cell_type": "markdown",
   "id": "74576d849e477544",
   "metadata": {
    "collapsed": false
   },
   "source": [
    "#### Caso ejemplo:\n",
    "- Tiempo máximo de simulación : 10080 Una semana (Este límite es solo para el caso de la línea temporal)\n",
    "- tiempo promedio de entrada de un cliente en minutos = 20.\n",
    "- precio de compra del producto al proveedor = 200.\n",
    "- precio de venta del producto = 300. \n",
    "- stock máximo en la tienda = 150.\n",
    "- stock mínimo en la tienda = 40.\n",
    "- stock inicial en la tienda = 21.\n",
    "- Tiempo mínimo de reposición = 65 minutos\n",
    "- tiempo máximo de reposición = 180 minutos\n",
    "- cantidad de personal a atender simultaneamente a clientes = 1.\n",
    "- cantidad de clientes máximo = 12 ( En el caso que se genere por cantidad de clientes)\n",
    "- precio de mantener producto por minuto = 0.05\n"
   ]
  },
  {
   "cell_type": "code",
   "execution_count": null,
   "id": "1194465379031390",
   "metadata": {
    "collapsed": false,
    "is_executing": true
   },
   "outputs": [],
   "source": [
    "from sim import *\n",
    "from Analize import analysis\n",
    "import numpy as np"
   ]
  },
  {
   "cell_type": "markdown",
   "id": "ec614449fba0515",
   "metadata": {
    "collapsed": false
   },
   "source": [
    "Generar las simulaciones con iguales parámetros excepto las semillas"
   ]
  },
  {
   "cell_type": "code",
   "execution_count": null,
   "id": "df541cfd629e3d15",
   "metadata": {
    "collapsed": false
   },
   "outputs": [],
   "source": [
    "def get_simulation(seed):\n",
    "   return Simulation(seed=seed, sim_time=1080, arrival_times=20, buy_price=200, sale_price=300, STOCK_MAX=150,\n",
    "                             STOCK_MIN=40, initial_stock=21, Repo_Min_T=65, Repo_Max_T=180, storekeeper=1, clients_count=1500,\n",
    "                             maintenance_cost=0.05)"
   ]
  },
  {
   "cell_type": "markdown",
   "id": "e8d3621cd3a14b26",
   "metadata": {
    "collapsed": false
   },
   "source": []
  },
  {
   "cell_type": "code",
   "execution_count": null,
   "id": "9027e1ef0a53618a",
   "metadata": {
    "collapsed": false
   },
   "outputs": [],
   "source": [
    "def experiment_results(count=60):\n",
    "    \"\"\"\n",
    "    This function runs a simulation experiment multiple times and collects the results.\n",
    "\n",
    "    Parameters:\n",
    "    count (int): The number of times to run the simulation. Default is 60.\n",
    "\n",
    "    Returns:\n",
    "    tuple: A tuple containing two lists:\n",
    "           - lis_by_time (list): This list contains the results of the simulations when the 'by_time' parameter is set to True.\n",
    "           - lis_by_person (list): This list contains the results of the simulations when the 'by_time' parameter is set to False.\n",
    "    \"\"\"\n",
    "\n",
    "    # Initialize lists to store the results of the simulations\n",
    "    lis_by_time = []\n",
    "    lis_by_person = []\n",
    "\n",
    "    # Run the simulation 'count' times\n",
    "    for seed in range(1, count + 1, 1):\n",
    "        # Initialize a Simulation object with the given parameters\n",
    "        sim = get_simulation(seed)\n",
    "\n",
    "        # Run the simulation with 'by_time' set to True and store the result\n",
    "        s_t = sim.start(True)\n",
    "        lis_by_time.append(s_t)\n",
    "        sim = get_simulation(seed)\n",
    "        # Run the simulation with 'by_time' set to False and store the result\n",
    "        s_p = sim.start(False)\n",
    "        lis_by_person.append(s_p)\n",
    "\n",
    "    # Return the results of the simulations\n",
    "    return lis_by_time, lis_by_person"
   ]
  },
  {
   "cell_type": "code",
   "execution_count": null,
   "id": "49ae3050094f8d78",
   "metadata": {
    "collapsed": false
   },
   "outputs": [],
   "source": [
    "lis_by_time, lis_by_person=experiment_results(1000)"
   ]
  },
  {
   "cell_type": "markdown",
   "id": "8101ec4c870fbb9",
   "metadata": {
    "collapsed": false
   },
   "source": [
    "### Análisis Estadístico"
   ]
  },
  {
   "cell_type": "markdown",
   "id": "e9c95b01db638063",
   "metadata": {
    "collapsed": false
   },
   "source": [
    "##### Análisis a la simulación en base a una cantidad fija de personas"
   ]
  },
  {
   "cell_type": "code",
   "execution_count": null,
   "id": "845875333cf8097a",
   "metadata": {
    "collapsed": false
   },
   "outputs": [],
   "source": [
    "analysis(lis_by_person)"
   ]
  },
  {
   "cell_type": "markdown",
   "id": "e26a97681c81c16",
   "metadata": {
    "collapsed": false
   },
   "source": [
    "##### Análisis en base a una cantidad limite de tiempo"
   ]
  },
  {
   "cell_type": "code",
   "execution_count": null,
   "id": "e97bf3ad",
   "metadata": {},
   "outputs": [],
   "source": [
    "analysis(lis_by_time)"
   ]
  },
  {
   "cell_type": "markdown",
   "id": "b433dcb6679911ce",
   "metadata": {
    "collapsed": false
   },
   "source": []
  }
 ],
 "metadata": {
  "kernelspec": {
   "display_name": "Python 3",
   "language": "python",
   "name": "python3"
  },
  "language_info": {
   "codemirror_mode": {
    "name": "ipython",
    "version": 3
   },
   "file_extension": ".py",
   "mimetype": "text/x-python",
   "name": "python",
   "nbconvert_exporter": "python",
   "pygments_lexer": "ipython3",
   "version": "3.12.0"
  }
 },
 "nbformat": 4,
 "nbformat_minor": 5
}
